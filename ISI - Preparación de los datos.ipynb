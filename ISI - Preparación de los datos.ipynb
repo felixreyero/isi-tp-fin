{
 "cells": [
  {
   "cell_type": "markdown",
   "metadata": {},
   "source": [
    "# Limpieza"
   ]
  },
  {
   "cell_type": "markdown",
   "metadata": {},
   "source": [
    "## Encabezado"
   ]
  },
  {
   "cell_type": "code",
   "execution_count": 2,
   "metadata": {},
   "outputs": [
    {
     "name": "stdout",
     "output_type": "stream",
     "text": [
      "['tramite_tipo', 'tramite_fecha', 'fecha_inscripcion_inicial', 'registro_seccional_codigo', 'registro_seccional_descripcion', 'registro_seccional_provincia', 'automotor_origen', 'automotor_anio_modelo', 'automotor_tipo_codigo', 'automotor_tipo_descripcion', 'automotor_marca_codigo', 'automotor_marca_descripcion', 'automotor_modelo_codigo', 'automotor_modelo_descripcion', 'automotor_uso_codigo', 'automotor_uso_descripcion', 'titular_tipo_persona', 'titular_domicilio_localidad', 'titular_domicilio_provincia', 'titular_genero', 'titular_anio_nacimiento', 'titular_pais_nacimiento', 'titular_porcentaje_titularidad', 'titular_domicilio_provincia_indec_id', 'titular_pais_nacimiento_indec_id']\n"
     ]
    }
   ],
   "source": [
    "import csv\n",
    "\n",
    "with open('curadov1.csv', newline='', encoding='cp1252') as f:\n",
    "    reader = csv.reader(f)\n",
    "    for row in reader:\n",
    "        print(row)\n",
    "        break"
   ]
  },
  {
   "cell_type": "markdown",
   "metadata": {},
   "source": [
    "## Diccionario de Reemplazos para limpieza"
   ]
  },
  {
   "cell_type": "code",
   "execution_count": 3,
   "metadata": {},
   "outputs": [],
   "source": [
    "import csv\n",
    "\n",
    "# Limpieza de marcas mal escritas, espacios, tipeos, etc-\n",
    "reemplazos_automotor_marca_descripcion = 'reemplazos.csv'\n",
    "\n",
    "# Marcas que tienen menos de 41 apariciones se engloban en Otros.\n",
    "reemplazosOtros = 'reemplazosOtros.csv'\n",
    "\n",
    "def carga_dict(archivo):\n",
    "    reader = csv.reader(open(archivo, 'r', encoding='cp1252'))\n",
    "    d = {}\n",
    "    for row in reader:\n",
    "        d[row[0].lower()] = row[1].lower()\n",
    "    return d"
   ]
  },
  {
   "cell_type": "code",
   "execution_count": 4,
   "metadata": {},
   "outputs": [],
   "source": [
    "import os\n",
    "import csv\n",
    "\n",
    "dict_automotor_marca_descripcion = carga_dict(reemplazos_automotor_marca_descripcion)\n",
    "\n",
    "dict_reemplazosOtros = carga_dict(reemplazosOtros)\n",
    "\n",
    "def replace(line, my_dict):\n",
    "    for word in line:\n",
    "        if word.lower() in my_dict:\n",
    "            line = [w.replace(word, my_dict[word.lower()]) for w in line]\n",
    "    return line\n",
    "\n",
    "def clean(input):\n",
    "    tmpFile = \"tmp.csv\"\n",
    "    with open(input, \"r\", encoding='cp1252') as file, open(tmpFile, \"w\", newline='', encoding='cp1252') as outFile:\n",
    "        reader = csv.reader(file, delimiter=',')\n",
    "        writer = csv.writer(outFile, delimiter=',')\n",
    "        header = next(reader)\n",
    "        writer.writerow(header)\n",
    "        for row in reader:\n",
    "            row = replace(row, dict_automotor_marca_descripcion)\n",
    "            row = replace(row, dict_reemplazosOtros)\n",
    "            colValues = []\n",
    "            for col in row:\n",
    "                col = col.strip()\n",
    "                if not col:\n",
    "                    col = '?'\n",
    "                colValues.append(col.lower())\n",
    "            writer.writerow(colValues)\n",
    "    #os.rename(tmpFile, input)\n",
    "\n",
    "clean('curadov1.csv')"
   ]
  },
  {
   "cell_type": "code",
   "execution_count": 5,
   "metadata": {},
   "outputs": [
    {
     "name": "stdout",
     "output_type": "stream",
     "text": [
      "['tramite_tipo', 'tramite_fecha', 'fecha_inscripcion_inicial', 'registro_seccional_codigo', 'registro_seccional_descripcion', 'registro_seccional_provincia', 'automotor_origen', 'automotor_anio_modelo', 'automotor_tipo_codigo', 'automotor_tipo_descripcion', 'automotor_marca_codigo', 'automotor_marca_descripcion', 'automotor_modelo_codigo', 'automotor_modelo_descripcion', 'automotor_uso_codigo', 'automotor_uso_descripcion', 'titular_tipo_persona', 'titular_domicilio_localidad', 'titular_domicilio_provincia', 'titular_genero', 'titular_anio_nacimiento', 'titular_pais_nacimiento', 'titular_porcentaje_titularidad', 'titular_domicilio_provincia_indec_id', 'titular_pais_nacimiento_indec_id']\n",
      "['denuncia de robo o hurto', '2018-01-17', '2000-10-05', '1029', 'esteban echeverria nº 1', 'buenos aires', 'nacional', '2000', '?', 'sedan', '8', 'chevrolet', '57', 'corsa 4 puertas wind 1.6 mpfi', '1', 'privado', 'física', 'monte grande', 'buenos aires', 'masculino', '1981', 'argentina', '100', '6', 'arg']\n",
      "['denuncia de robo o hurto', '2018-01-03', '2007-11-22', '1047', 'lanus nº 1', 'buenos aires', 'nacional', '2007', '?', 'furgon 600', '34', 'peugeot', 'ep', 'partner furgon d plc presence', '1', 'privado', 'física', 'valentin alsina', 'buenos aires', 'femenino', '1990', 'argentina', '100', '6', 'arg']\n",
      "['denuncia de robo o hurto', '2018-01-12', '1995-02-01', '1059', 'mar del plata nº 02', 'buenos aires', 'nacional', '1995', '?', 'berlina 5 puertas', '37', 'renault', 'ah', '19 rn inyeccion bic.', '1', 'privado', 'física', 'unidad turistica chapadmalal', 'buenos aires', 'masculino', '1986', 'argentina', '100', '6', 'arg']\n",
      "['denuncia de robo o hurto', '2018-01-02', '1999-09-28', '1066', 'necochea nº 1', 'buenos aires', 'nacional', '1999', '?', 'berlina 3 puertas', '37', 'renault', 'cc', 'clio rl diesel 3 puertas', '1', 'privado', 'física', 'necochea bs.as.', 'buenos aires', 'no identificado', '1964', 'no identificado', '100', '6', '?']\n"
     ]
    }
   ],
   "source": [
    "import csv\n",
    "with open('tmp.csv', newline='', encoding='cp1252') as f:\n",
    "    reader = csv.reader(f)\n",
    "    n = 0\n",
    "    for row in reader:\n",
    "        n = n + 1\n",
    "        print(row)\n",
    "        if (n==5):\n",
    "            break"
   ]
  },
  {
   "cell_type": "markdown",
   "metadata": {},
   "source": [
    "# Pandas"
   ]
  },
  {
   "cell_type": "code",
   "execution_count": 6,
   "metadata": {},
   "outputs": [],
   "source": [
    "import pandas as pd"
   ]
  },
  {
   "cell_type": "code",
   "execution_count": 7,
   "metadata": {},
   "outputs": [],
   "source": [
    "import matplotlib.pyplot as plt"
   ]
  },
  {
   "cell_type": "code",
   "execution_count": 8,
   "metadata": {},
   "outputs": [
    {
     "name": "stderr",
     "output_type": "stream",
     "text": [
      "/home/felix/.local/lib/python3.6/site-packages/IPython/core/interactiveshell.py:3072: DtypeWarning: Columns (14) have mixed types.Specify dtype option on import or set low_memory=False.\n",
      "  interactivity=interactivity, compiler=compiler, result=result)\n"
     ]
    }
   ],
   "source": [
    "df = pd.read_csv(\"tmp.csv\",  encoding='cp1252')"
   ]
  },
  {
   "cell_type": "code",
   "execution_count": 9,
   "metadata": {},
   "outputs": [],
   "source": [
    "from datetime import datetime"
   ]
  },
  {
   "cell_type": "code",
   "execution_count": 10,
   "metadata": {},
   "outputs": [],
   "source": [
    "#  time data '2019-8-0' does not match format '%Y-%m-%d'\n",
    "\n",
    "#df.loc[df[\"tramite_fecha\"] == '2019-8-0'] = '2019-8-1'"
   ]
  },
  {
   "cell_type": "markdown",
   "metadata": {},
   "source": [
    "### Extraer de \"tramite_fecha\" el dia de la semana"
   ]
  },
  {
   "cell_type": "code",
   "execution_count": 11,
   "metadata": {},
   "outputs": [],
   "source": [
    "def day_of_week(date):\n",
    "    day_of_week = datetime.strptime(date, '%Y-%m-%d').strftime('%A')\n",
    "    if day_of_week == 'Monday':\n",
    "        return 'Lunes'\n",
    "    elif day_of_week == 'Tuesday':\n",
    "        return 'Martes'\n",
    "    elif day_of_week == 'Wednesday':\n",
    "        return 'Miercoles'\n",
    "    elif day_of_week == 'Thursday':\n",
    "        return 'Jueves'\n",
    "    elif day_of_week == 'Friday':\n",
    "        return 'Viernes'\n",
    "    elif day_of_week == 'Saturday':\n",
    "        return 'Sabado'\n",
    "    elif day_of_week == 'Sunday':\n",
    "        return 'Domingo'\n"
   ]
  },
  {
   "cell_type": "code",
   "execution_count": 12,
   "metadata": {},
   "outputs": [],
   "source": [
    "df.insert(2, \"tramite_fecha_dia_de_la_semana\", df.apply(lambda row: day_of_week(row[\"tramite_fecha\"]), axis=1))"
   ]
  },
  {
   "cell_type": "code",
   "execution_count": 13,
   "metadata": {},
   "outputs": [
    {
     "data": {
      "text/plain": [
       "Miercoles    19684\n",
       "Jueves       19425\n",
       "Martes       18997\n",
       "Viernes      18493\n",
       "Lunes        17421\n",
       "Sabado          12\n",
       "Domingo         12\n",
       "Name: tramite_fecha_dia_de_la_semana, dtype: int64"
      ]
     },
     "execution_count": 13,
     "metadata": {},
     "output_type": "execute_result"
    }
   ],
   "source": [
    "# Histograma\n",
    "\n",
    "df[\"tramite_fecha_dia_de_la_semana\"].value_counts()"
   ]
  },
  {
   "cell_type": "code",
   "execution_count": 14,
   "metadata": {},
   "outputs": [
    {
     "data": {
      "text/plain": [
       "<AxesSubplot:>"
      ]
     },
     "execution_count": 14,
     "metadata": {},
     "output_type": "execute_result"
    },
    {
     "data": {
      "image/png": "[encoded data removed]",
      "text/plain": [
       "<Figure size 432x288 with 1 Axes>"
      ]
     },
     "metadata": {
      "needs_background": "light"
     },
     "output_type": "display_data"
    }
   ],
   "source": [
    "df[\"tramite_fecha_dia_de_la_semana\"].value_counts().plot(kind='bar')"
   ]
  },
  {
   "cell_type": "markdown",
   "metadata": {},
   "source": [
    "### Extraer de \"tramite_fecha\" el mes"
   ]
  },
  {
   "cell_type": "code",
   "execution_count": 15,
   "metadata": {},
   "outputs": [],
   "source": [
    "def month(date):\n",
    "    return datetime.strptime(date, '%Y-%m-%d').month"
   ]
  },
  {
   "cell_type": "code",
   "execution_count": 16,
   "metadata": {},
   "outputs": [],
   "source": [
    "df.insert(3, \"tramite_fecha_mes\", df.apply(lambda row: month(row[\"tramite_fecha\"]), axis=1))"
   ]
  },
  {
   "cell_type": "code",
   "execution_count": 17,
   "metadata": {},
   "outputs": [
    {
     "data": {
      "text/plain": [
       "<AxesSubplot:>"
      ]
     },
     "execution_count": 17,
     "metadata": {},
     "output_type": "execute_result"
    },
    {
     "data": {
      "image/png": "[encoded data removed]",
      "text/plain": [
       "<Figure size 432x288 with 1 Axes>"
      ]
     },
     "metadata": {
      "needs_background": "light"
     },
     "output_type": "display_data"
    }
   ],
   "source": [
    "# Histograma\n",
    "\n",
    "df[\"tramite_fecha_mes\"].value_counts()\n",
    "df[\"tramite_fecha_mes\"].value_counts().plot(kind='bar')"
   ]
  },
  {
   "cell_type": "markdown",
   "metadata": {},
   "source": [
    "### Extraer de \"tramite_fecha\" el año"
   ]
  },
  {
   "cell_type": "code",
   "execution_count": 18,
   "metadata": {},
   "outputs": [],
   "source": [
    "def year(date):\n",
    "    return datetime.strptime(date, '%Y-%m-%d').year"
   ]
  },
  {
   "cell_type": "code",
   "execution_count": 19,
   "metadata": {},
   "outputs": [],
   "source": [
    "df.insert(4, \"tramite_fecha_año\", df.apply(lambda row: year(row[\"tramite_fecha\"]), axis=1))"
   ]
  },
  {
   "cell_type": "code",
   "execution_count": 20,
   "metadata": {},
   "outputs": [
    {
     "data": {
      "text/plain": [
       "2019    36837\n",
       "2018    36814\n",
       "2020    20393\n",
       "Name: tramite_fecha_año, dtype: int64"
      ]
     },
     "execution_count": 20,
     "metadata": {},
     "output_type": "execute_result"
    }
   ],
   "source": [
    "# Histograma\n",
    "\n",
    "df[\"tramite_fecha_año\"].value_counts()"
   ]
  },
  {
   "cell_type": "code",
   "execution_count": 21,
   "metadata": {},
   "outputs": [
    {
     "data": {
      "text/plain": [
       "<AxesSubplot:>"
      ]
     },
     "execution_count": 21,
     "metadata": {},
     "output_type": "execute_result"
    },
    {
     "data": {
      "image/png": "[encoded data removed]",
      "text/plain": [
       "<Figure size 432x288 with 1 Axes>"
      ]
     },
     "metadata": {
      "needs_background": "light"
     },
     "output_type": "display_data"
    }
   ],
   "source": [
    "df[\"registro_seccional_provincia\"].value_counts()\n",
    "df[\"registro_seccional_provincia\"].value_counts().plot(kind='bar')"
   ]
  },
  {
   "cell_type": "code",
   "execution_count": 22,
   "metadata": {},
   "outputs": [
    {
     "data": {
      "text/html": [
       "<div>\n",
       "<style scoped>\n",
       "    .dataframe tbody tr th:only-of-type {\n",
       "        vertical-align: middle;\n",
       "    }\n",
       "\n",
       "    .dataframe tbody tr th {\n",
       "        vertical-align: top;\n",
       "    }\n",
       "\n",
       "    .dataframe thead th {\n",
       "        text-align: right;\n",
       "    }\n",
       "</style>\n",
       "<table border=\"1\" class=\"dataframe\">\n",
       "  <thead>\n",
       "    <tr style=\"text-align: right;\">\n",
       "      <th></th>\n",
       "      <th>tramite_tipo</th>\n",
       "      <th>tramite_fecha</th>\n",
       "      <th>tramite_fecha_dia_de_la_semana</th>\n",
       "      <th>tramite_fecha_mes</th>\n",
       "      <th>tramite_fecha_año</th>\n",
       "      <th>fecha_inscripcion_inicial</th>\n",
       "      <th>registro_seccional_codigo</th>\n",
       "      <th>registro_seccional_descripcion</th>\n",
       "      <th>registro_seccional_provincia</th>\n",
       "      <th>automotor_origen</th>\n",
       "      <th>...</th>\n",
       "      <th>automotor_uso_descripcion</th>\n",
       "      <th>titular_tipo_persona</th>\n",
       "      <th>titular_domicilio_localidad</th>\n",
       "      <th>titular_domicilio_provincia</th>\n",
       "      <th>titular_genero</th>\n",
       "      <th>titular_anio_nacimiento</th>\n",
       "      <th>titular_pais_nacimiento</th>\n",
       "      <th>titular_porcentaje_titularidad</th>\n",
       "      <th>titular_domicilio_provincia_indec_id</th>\n",
       "      <th>titular_pais_nacimiento_indec_id</th>\n",
       "    </tr>\n",
       "  </thead>\n",
       "  <tbody>\n",
       "    <tr>\n",
       "      <th>0</th>\n",
       "      <td>denuncia de robo o hurto</td>\n",
       "      <td>2018-01-17</td>\n",
       "      <td>Miercoles</td>\n",
       "      <td>1</td>\n",
       "      <td>2018</td>\n",
       "      <td>2000-10-05</td>\n",
       "      <td>1029</td>\n",
       "      <td>esteban echeverria nº 1</td>\n",
       "      <td>buenos aires</td>\n",
       "      <td>nacional</td>\n",
       "      <td>...</td>\n",
       "      <td>privado</td>\n",
       "      <td>física</td>\n",
       "      <td>monte grande</td>\n",
       "      <td>buenos aires</td>\n",
       "      <td>masculino</td>\n",
       "      <td>1981</td>\n",
       "      <td>argentina</td>\n",
       "      <td>100</td>\n",
       "      <td>6</td>\n",
       "      <td>arg</td>\n",
       "    </tr>\n",
       "    <tr>\n",
       "      <th>1</th>\n",
       "      <td>denuncia de robo o hurto</td>\n",
       "      <td>2018-01-03</td>\n",
       "      <td>Miercoles</td>\n",
       "      <td>1</td>\n",
       "      <td>2018</td>\n",
       "      <td>2007-11-22</td>\n",
       "      <td>1047</td>\n",
       "      <td>lanus nº 1</td>\n",
       "      <td>buenos aires</td>\n",
       "      <td>nacional</td>\n",
       "      <td>...</td>\n",
       "      <td>privado</td>\n",
       "      <td>física</td>\n",
       "      <td>valentin alsina</td>\n",
       "      <td>buenos aires</td>\n",
       "      <td>femenino</td>\n",
       "      <td>1990</td>\n",
       "      <td>argentina</td>\n",
       "      <td>100</td>\n",
       "      <td>6</td>\n",
       "      <td>arg</td>\n",
       "    </tr>\n",
       "    <tr>\n",
       "      <th>2</th>\n",
       "      <td>denuncia de robo o hurto</td>\n",
       "      <td>2018-01-12</td>\n",
       "      <td>Viernes</td>\n",
       "      <td>1</td>\n",
       "      <td>2018</td>\n",
       "      <td>1995-02-01</td>\n",
       "      <td>1059</td>\n",
       "      <td>mar del plata nº 02</td>\n",
       "      <td>buenos aires</td>\n",
       "      <td>nacional</td>\n",
       "      <td>...</td>\n",
       "      <td>privado</td>\n",
       "      <td>física</td>\n",
       "      <td>unidad turistica chapadmalal</td>\n",
       "      <td>buenos aires</td>\n",
       "      <td>masculino</td>\n",
       "      <td>1986</td>\n",
       "      <td>argentina</td>\n",
       "      <td>100</td>\n",
       "      <td>6</td>\n",
       "      <td>arg</td>\n",
       "    </tr>\n",
       "    <tr>\n",
       "      <th>3</th>\n",
       "      <td>denuncia de robo o hurto</td>\n",
       "      <td>2018-01-02</td>\n",
       "      <td>Martes</td>\n",
       "      <td>1</td>\n",
       "      <td>2018</td>\n",
       "      <td>1999-09-28</td>\n",
       "      <td>1066</td>\n",
       "      <td>necochea nº 1</td>\n",
       "      <td>buenos aires</td>\n",
       "      <td>nacional</td>\n",
       "      <td>...</td>\n",
       "      <td>privado</td>\n",
       "      <td>física</td>\n",
       "      <td>necochea bs.as.</td>\n",
       "      <td>buenos aires</td>\n",
       "      <td>no identificado</td>\n",
       "      <td>1964</td>\n",
       "      <td>no identificado</td>\n",
       "      <td>100</td>\n",
       "      <td>6</td>\n",
       "      <td>?</td>\n",
       "    </tr>\n",
       "    <tr>\n",
       "      <th>4</th>\n",
       "      <td>denuncia de robo o hurto</td>\n",
       "      <td>2018-01-09</td>\n",
       "      <td>Martes</td>\n",
       "      <td>1</td>\n",
       "      <td>2018</td>\n",
       "      <td>2006-09-07</td>\n",
       "      <td>1074</td>\n",
       "      <td>pilar nº 1</td>\n",
       "      <td>buenos aires</td>\n",
       "      <td>nacional</td>\n",
       "      <td>...</td>\n",
       "      <td>privado</td>\n",
       "      <td>física</td>\n",
       "      <td>pte. derqui</td>\n",
       "      <td>buenos aires</td>\n",
       "      <td>femenino</td>\n",
       "      <td>1961</td>\n",
       "      <td>argentina</td>\n",
       "      <td>100</td>\n",
       "      <td>6</td>\n",
       "      <td>arg</td>\n",
       "    </tr>\n",
       "  </tbody>\n",
       "</table>\n",
       "<p>5 rows × 28 columns</p>\n",
       "</div>"
      ],
      "text/plain": [
       "               tramite_tipo tramite_fecha tramite_fecha_dia_de_la_semana  \\\n",
       "0  denuncia de robo o hurto    2018-01-17                      Miercoles   \n",
       "1  denuncia de robo o hurto    2018-01-03                      Miercoles   \n",
       "2  denuncia de robo o hurto    2018-01-12                        Viernes   \n",
       "3  denuncia de robo o hurto    2018-01-02                         Martes   \n",
       "4  denuncia de robo o hurto    2018-01-09                         Martes   \n",
       "\n",
       "   tramite_fecha_mes  tramite_fecha_año fecha_inscripcion_inicial  \\\n",
       "0                  1               2018                2000-10-05   \n",
       "1                  1               2018                2007-11-22   \n",
       "2                  1               2018                1995-02-01   \n",
       "3                  1               2018                1999-09-28   \n",
       "4                  1               2018                2006-09-07   \n",
       "\n",
       "   registro_seccional_codigo registro_seccional_descripcion  \\\n",
       "0                       1029        esteban echeverria nº 1   \n",
       "1                       1047                     lanus nº 1   \n",
       "2                       1059            mar del plata nº 02   \n",
       "3                       1066                  necochea nº 1   \n",
       "4                       1074                     pilar nº 1   \n",
       "\n",
       "  registro_seccional_provincia automotor_origen  ...  \\\n",
       "0                 buenos aires         nacional  ...   \n",
       "1                 buenos aires         nacional  ...   \n",
       "2                 buenos aires         nacional  ...   \n",
       "3                 buenos aires         nacional  ...   \n",
       "4                 buenos aires         nacional  ...   \n",
       "\n",
       "  automotor_uso_descripcion titular_tipo_persona  \\\n",
       "0                   privado               física   \n",
       "1                   privado               física   \n",
       "2                   privado               física   \n",
       "3                   privado               física   \n",
       "4                   privado               física   \n",
       "\n",
       "    titular_domicilio_localidad titular_domicilio_provincia   titular_genero  \\\n",
       "0                  monte grande                buenos aires        masculino   \n",
       "1               valentin alsina                buenos aires         femenino   \n",
       "2  unidad turistica chapadmalal                buenos aires        masculino   \n",
       "3               necochea bs.as.                buenos aires  no identificado   \n",
       "4                   pte. derqui                buenos aires         femenino   \n",
       "\n",
       "  titular_anio_nacimiento titular_pais_nacimiento  \\\n",
       "0                    1981               argentina   \n",
       "1                    1990               argentina   \n",
       "2                    1986               argentina   \n",
       "3                    1964         no identificado   \n",
       "4                    1961               argentina   \n",
       "\n",
       "  titular_porcentaje_titularidad titular_domicilio_provincia_indec_id  \\\n",
       "0                            100                                    6   \n",
       "1                            100                                    6   \n",
       "2                            100                                    6   \n",
       "3                            100                                    6   \n",
       "4                            100                                    6   \n",
       "\n",
       "  titular_pais_nacimiento_indec_id  \n",
       "0                              arg  \n",
       "1                              arg  \n",
       "2                              arg  \n",
       "3                                ?  \n",
       "4                              arg  \n",
       "\n",
       "[5 rows x 28 columns]"
      ]
     },
     "execution_count": 22,
     "metadata": {},
     "output_type": "execute_result"
    }
   ],
   "source": [
    "df.head()"
   ]
  },
  {
   "cell_type": "code",
   "execution_count": 34,
   "metadata": {},
   "outputs": [
    {
     "data": {
      "text/plain": [
       "<AxesSubplot:ylabel='tramite_tipo'>"
      ]
     },
     "execution_count": 34,
     "metadata": {},
     "output_type": "execute_result"
    },
    {
     "data": {
      "image/png": "[encoded data removed]",
      "text/plain": [
       "<Figure size 432x288 with 1 Axes>"
      ]
     },
     "metadata": {},
     "output_type": "display_data"
    }
   ],
   "source": [
    "df[\"tramite_tipo\"].value_counts().plot(kind='pie',autopct='%1.1f%%')"
   ]
  },
  {
   "cell_type": "code",
   "execution_count": 35,
   "metadata": {},
   "outputs": [
    {
     "data": {
      "text/plain": [
       "<AxesSubplot:ylabel='automotor_origen'>"
      ]
     },
     "execution_count": 35,
     "metadata": {},
     "output_type": "execute_result"
    },
    {
     "data": {
      "image/png": "[encoded data removed]",
      "text/plain": [
       "<Figure size 432x288 with 1 Axes>"
      ]
     },
     "metadata": {},
     "output_type": "display_data"
    }
   ],
   "source": [
    "df[\"automotor_origen\"].value_counts().plot(kind='pie',autopct='%1.1f%%')"
   ]
  },
  {
   "cell_type": "code",
   "execution_count": 43,
   "metadata": {},
   "outputs": [
    {
     "data": {
      "text/plain": [
       "<AxesSubplot:ylabel='titular_genero'>"
      ]
     },
     "execution_count": 43,
     "metadata": {},
     "output_type": "execute_result"
    },
    {
     "data": {
      "image/png": "[encoded data removed]",
      "text/plain": [
       "<Figure size 432x288 with 1 Axes>"
      ]
     },
     "metadata": {},
     "output_type": "display_data"
    }
   ],
   "source": [
    "df[\"titular_genero\"].value_counts().plot(kind='pie',autopct='%1.1f%%')"
   ]
  },
  {
   "cell_type": "code",
   "execution_count": 44,
   "metadata": {},
   "outputs": [
    {
     "data": {
      "text/plain": [
       "<AxesSubplot:ylabel='titular_genero'>"
      ]
     },
     "execution_count": 44,
     "metadata": {},
     "output_type": "execute_result"
    },
    {
     "data": {
      "image/png": "[encoded data removed]",
      "text/plain": [
       "<Figure size 432x288 with 1 Axes>"
      ]
     },
     "metadata": {},
     "output_type": "display_data"
    }
   ],
   "source": [
    "filtered_class = df[df['tramite_tipo'] == 'comunicación de recupero']\n",
    "filtered_class[\"titular_genero\"].value_counts().plot(kind='pie',autopct='%1.1f%%')"
   ]
  },
  {
   "cell_type": "code",
   "execution_count": 45,
   "metadata": {},
   "outputs": [
    {
     "data": {
      "text/plain": [
       "<AxesSubplot:ylabel='automotor_origen'>"
      ]
     },
     "execution_count": 45,
     "metadata": {},
     "output_type": "execute_result"
    },
    {
     "data": {
      "image/png": "[encoded data removed]",
      "text/plain": [
       "<Figure size 432x288 with 1 Axes>"
      ]
     },
     "metadata": {},
     "output_type": "display_data"
    }
   ],
   "source": [
    "filtered_class = df[df['tramite_tipo'] == 'comunicación de recupero']\n",
    "filtered_class[\"automotor_origen\"].value_counts().plot(kind='pie',autopct='%1.1f%%')"
   ]
  },
  {
   "cell_type": "code",
   "execution_count": 25,
   "metadata": {},
   "outputs": [],
   "source": [
    "df.to_csv(\"tmp2_pandas.csv\", index=False)"
   ]
  },
  {
   "cell_type": "code",
   "execution_count": 26,
   "metadata": {},
   "outputs": [],
   "source": [
    "clean('tmp2_pandas.csv')"
   ]
  }
 ],
 "metadata": {
  "kernelspec": {
   "display_name": "Python 3",
   "language": "python",
   "name": "python3"
  },
  "language_info": {
   "codemirror_mode": {
    "name": "ipython",
    "version": 3
   },
   "file_extension": ".py",
   "mimetype": "text/x-python",
   "name": "python",
   "nbconvert_exporter": "python",
   "pygments_lexer": "ipython3",
   "version": "3.6.9"
  }
 },
 "nbformat": 4,
 "nbformat_minor": 2
}
