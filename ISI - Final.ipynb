{
 "cells": [
  {
   "cell_type": "markdown",
   "metadata": {},
   "source": [
    "# Limpieza"
   ]
  },
  {
   "cell_type": "code",
   "execution_count": 1,
   "metadata": {},
   "outputs": [
    {
     "name": "stdout",
     "output_type": "stream",
     "text": [
      "['tramite_tipo', 'tramite_fecha', 'fecha_inscripcion_inicial', 'registro_seccional_codigo', 'registro_seccional_descripcion', 'registro_seccional_provincia', 'automotor_origen', 'automotor_anio_modelo', 'automotor_tipo_codigo', 'automotor_tipo_descripcion', 'automotor_marca_codigo', 'automotor_marca_descripcion', 'automotor_modelo_codigo', 'automotor_modelo_descripcion', 'automotor_uso_codigo', 'automotor_uso_descripcion', 'titular_tipo_persona', 'titular_domicilio_localidad', 'titular_domicilio_provincia', 'titular_genero', 'titular_anio_nacimiento', 'titular_pais_nacimiento', 'titular_porcentaje_titularidad', 'titular_domicilio_provincia_indec_id', 'titular_pais_nacimiento_indec_id']\n"
     ]
    }
   ],
   "source": [
    "import csv\n",
    "with open('curadov1.csv', newline='') as f:\n",
    "    reader = csv.reader(f)\n",
    "    for row in reader:\n",
    "        print(row)\n",
    "        break"
   ]
  },
  {
   "cell_type": "code",
   "execution_count": 23,
   "metadata": {},
   "outputs": [],
   "source": [
    "# Reemplazos\n",
    "\n",
    "import csv\n",
    "reader = csv.reader(open('reemplazos.csv', 'r'))\n",
    "d = {}\n",
    "for row in reader:\n",
    "    d[row[0].lower()] = row[1].lower()\n",
    "\n",
    "#print(d)"
   ]
  },
  {
   "cell_type": "code",
   "execution_count": 24,
   "metadata": {},
   "outputs": [],
   "source": [
    "import os\n",
    "import csv\n",
    "\n",
    "def replace(line):\n",
    "    for word in line:\n",
    "        if word.lower() in d:\n",
    "            line = [w.replace(word, d[word.lower()]) for w in line]\n",
    "    return line\n",
    "\n",
    "def clean(input):\n",
    "    tmpFile = \"tmp.csv\"\n",
    "    with open(input, \"r\") as file, open(tmpFile, \"w\", newline='') as outFile:\n",
    "        reader = csv.reader(file, delimiter=',')\n",
    "        writer = csv.writer(outFile, delimiter=',')\n",
    "        header = next(reader)\n",
    "        writer.writerow(header)\n",
    "        for row in reader:\n",
    "            row = replace(row)\n",
    "            colValues = []\n",
    "            for col in row:\n",
    "                col = col.strip()\n",
    "                if not col:\n",
    "                    col = '?'\n",
    "                colValues.append(col.lower())\n",
    "            writer.writerow(colValues)\n",
    "    #os.rename(tmpFile, input)\n",
    "\n",
    "clean('curadov1.csv')"
   ]
  },
  {
   "cell_type": "code",
   "execution_count": 25,
   "metadata": {},
   "outputs": [
    {
     "name": "stdout",
     "output_type": "stream",
     "text": [
      "['tramite_tipo', 'tramite_fecha', 'fecha_inscripcion_inicial', 'registro_seccional_codigo', 'registro_seccional_descripcion', 'registro_seccional_provincia', 'automotor_origen', 'automotor_anio_modelo', 'automotor_tipo_codigo', 'automotor_tipo_descripcion', 'automotor_marca_codigo', 'automotor_marca_descripcion', 'automotor_modelo_codigo', 'automotor_modelo_descripcion', 'automotor_uso_codigo', 'automotor_uso_descripcion', 'titular_tipo_persona', 'titular_domicilio_localidad', 'titular_domicilio_provincia', 'titular_genero', 'titular_anio_nacimiento', 'titular_pais_nacimiento', 'titular_porcentaje_titularidad', 'titular_domicilio_provincia_indec_id', 'titular_pais_nacimiento_indec_id']\n",
      "['denuncia de robo o hurto', '2018-01-17', '2000-10-05', '1029', 'esteban echeverria nº 1', 'buenos aires', 'nacional', '2000', '?', 'sedan', '8', 'chevrolet', '57', 'corsa 4 puertas wind 1.6 mpfi', '1', 'privado', 'física', 'monte grande', 'buenos aires', 'masculino', '1981', 'argentina', '100', '6', 'arg']\n",
      "['denuncia de robo o hurto', '2018-01-03', '2007-11-22', '1047', 'lanus nº 1', 'buenos aires', 'nacional', '2007', '?', 'furgon 600', '34', 'peugeot', 'ep', 'partner furgon d plc presence', '1', 'privado', 'física', 'valentin alsina', 'buenos aires', 'femenino', '1990', 'argentina', '100', '6', 'arg']\n",
      "['denuncia de robo o hurto', '2018-01-12', '1995-02-01', '1059', 'mar del plata nº 02', 'buenos aires', 'nacional', '1995', '?', 'berlina 5 puertas', '37', 'renault', 'ah', '19 rn inyeccion bic.', '1', 'privado', 'física', 'unidad turistica chapadmalal', 'buenos aires', 'masculino', '1986', 'argentina', '100', '6', 'arg']\n",
      "['denuncia de robo o hurto', '2018-01-02', '1999-09-28', '1066', 'necochea nº 1', 'buenos aires', 'nacional', '1999', '?', 'berlina 3 puertas', '37', 'renault', 'cc', 'clio rl diesel 3 puertas', '1', 'privado', 'física', 'necochea bs.as.', 'buenos aires', 'no identificado', '1964', 'no identificado', '100', '6', '?']\n"
     ]
    }
   ],
   "source": [
    "import csv\n",
    "with open('tmp.csv', newline='') as f:\n",
    "    reader = csv.reader(f)\n",
    "    n = 0\n",
    "    for row in reader:\n",
    "        n = n + 1\n",
    "        print(row)\n",
    "        if (n==5):\n",
    "            break"
   ]
  }
 ],
 "metadata": {
  "kernelspec": {
   "display_name": "Python 3",
   "language": "python",
   "name": "python3"
  },
  "language_info": {
   "codemirror_mode": {
    "name": "ipython",
    "version": 3
   },
   "file_extension": ".py",
   "mimetype": "text/x-python",
   "name": "python",
   "nbconvert_exporter": "python",
   "pygments_lexer": "ipython3",
   "version": "3.7.3"
  }
 },
 "nbformat": 4,
 "nbformat_minor": 2
}
